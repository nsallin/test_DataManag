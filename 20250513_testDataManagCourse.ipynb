{
  "metadata": {
    "kernelspec": {
      "name": "python",
      "display_name": "Python (Pyodide)",
      "language": "python"
    },
    "language_info": {
      "codemirror_mode": {
        "name": "python",
        "version": 3
      },
      "file_extension": ".py",
      "mimetype": "text/x-python",
      "name": "python",
      "nbconvert_exporter": "python",
      "pygments_lexer": "ipython3",
      "version": "3.8"
    }
  },
  "nbformat_minor": 5,
  "nbformat": 4,
  "cells": [
    {
      "id": "76f14c79-2710-4e28-8939-eb0439321797",
      "cell_type": "code",
      "source": "print('what?')",
      "metadata": {
        "trusted": true
      },
      "outputs": [
        {
          "name": "stdout",
          "output_type": "stream",
          "text": "what?\n"
        }
      ],
      "execution_count": 1
    },
    {
      "id": "55ace9a1-5eaf-4f92-9f73-a745bf308b83",
      "cell_type": "markdown",
      "source": "# Hello this is the course",
      "metadata": {}
    },
    {
      "id": "c60fa90e-a2bd-4567-9527-6714eb80ec5f",
      "cell_type": "markdown",
      "source": "this is the text ",
      "metadata": {}
    },
    {
      "id": "cf8d103a-84c9-4ac0-b44c-7c201e97be0f",
      "cell_type": "code",
      "source": "",
      "metadata": {
        "trusted": true
      },
      "outputs": [],
      "execution_count": null
    }
  ]
}